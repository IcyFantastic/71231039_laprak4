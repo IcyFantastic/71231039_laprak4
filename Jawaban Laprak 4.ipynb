{
 "cells": [
  {
   "cell_type": "markdown",
   "metadata": {},
   "source": [
    "Latihan 4.1"
   ]
  },
  {
   "cell_type": "code",
   "execution_count": 16,
   "metadata": {},
   "outputs": [
    {
     "name": "stdout",
     "output_type": "stream",
     "text": [
      "False\n"
     ]
    }
   ],
   "source": [
    "def cek_angka(a, b, c):\n",
    "    if a != b and b != c and a != c:\n",
    "        if a + b == c or b + c == a or c + a == b:\n",
    "            return True\n",
    "    \n",
    "    else:\n",
    "        return False\n",
    "\n",
    "a = int(input(\"Masukan Angka Pertama : \"))\n",
    "b = int(input(\"Masukan Angka Kedua : \"))    \n",
    "c = int(input(\"Masukan Angka Ketiga : \"))\n",
    "\n",
    "print(cek_angka(a, b, c))\n"
   ]
  },
  {
   "cell_type": "markdown",
   "metadata": {},
   "source": [
    "Latihan 4.2"
   ]
  },
  {
   "cell_type": "code",
   "execution_count": 27,
   "metadata": {},
   "outputs": [
    {
     "name": "stdout",
     "output_type": "stream",
     "text": [
      "30 20 18\n"
     ]
    },
    {
     "name": "stdout",
     "output_type": "stream",
     "text": [
      "True\n",
      "145 5 100\n",
      "True\n",
      "71 187 18\n",
      "False\n",
      "1024 14 94\n",
      "True\n",
      "53 8900 658\n",
      "False\n"
     ]
    }
   ],
   "source": [
    "def cek_digit_belakang():\n",
    "    a = int(input(\"Masukan Angka Pertama : \"))\n",
    "    b = int(input(\"Masukan Angka Kedua : \"))\n",
    "    c = int(input(\"Masukan Angka Ketiga : \"))\n",
    "\n",
    "    angka1 = a % 10\n",
    "    angka2 = b % 10\n",
    "    angka3 = c % 10\n",
    "\n",
    "    if angka1 == angka2 or angka1 == angka3 or angka2 == angka3:\n",
    "        print(True)\n",
    "    else:\n",
    "        print(False)\n",
    "\n",
    "print(30, 20, 18)\n",
    "cek_digit_belakang()\n",
    "\n",
    "print(145, 5, 100)\n",
    "cek_digit_belakang()\n",
    "\n",
    "print(71, 187, 18)\n",
    "cek_digit_belakang()\n",
    "\n",
    "print(1024, 14, 94)\n",
    "cek_digit_belakang()\n",
    "\n",
    "print(53, 8900, 658)\n",
    "cek_digit_belakang()"
   ]
  },
  {
   "cell_type": "markdown",
   "metadata": {},
   "source": [
    "Latihan 4.3"
   ]
  },
  {
   "cell_type": "code",
   "execution_count": 33,
   "metadata": {},
   "outputs": [
    {
     "name": "stdout",
     "output_type": "stream",
     "text": [
      "1. Fahrenheit\n",
      "2. Reamur\n",
      "Suhu 80 Derajat Celcius Sama Dengan 64.0 Derajat Reamur\n"
     ]
    }
   ],
   "source": [
    "fahrenheit = lambda suhu_f: (1.8 * suhu_f + 32)\n",
    "reamur = lambda suhu_r: (0.8 * suhu_r)\n",
    "\n",
    "print(\"1. Fahrenheit\")\n",
    "print(\"2. Reamur\")\n",
    "pilihan = int(input(\"Pilih Perhitungan Suhu Yang Diinginkan : \"))\n",
    "\n",
    "if pilihan == 1:\n",
    "    suhu_f = int(input(\"Masukan Suhu Dalam Celcius : \"))\n",
    "    print(f\"Suhu {suhu_f} Derajat Celcius Sama Dengan {fahrenheit(suhu_f)} Derajat Fahrenheit\")\n",
    "elif pilihan == 2:\n",
    "    suhu_r = int(input(\"Masukan Suhu Dalam Celcius : \"))\n",
    "    print(f\"Suhu {suhu_r} Derajat Celcius Sama Dengan {reamur(suhu_r)} Derajat Reamur\")\n",
    "else:\n",
    "    print(\"Error, Terdapat Salah Input\")"
   ]
  }
 ],
 "metadata": {
  "kernelspec": {
   "display_name": "Python 3",
   "language": "python",
   "name": "python3"
  },
  "language_info": {
   "codemirror_mode": {
    "name": "ipython",
    "version": 3
   },
   "file_extension": ".py",
   "mimetype": "text/x-python",
   "name": "python",
   "nbconvert_exporter": "python",
   "pygments_lexer": "ipython3",
   "version": "3.12.0"
  }
 },
 "nbformat": 4,
 "nbformat_minor": 2
}
